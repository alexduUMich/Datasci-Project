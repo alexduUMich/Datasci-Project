{
 "cells": [
  {
   "cell_type": "code",
   "execution_count": 1,
   "id": "4abb49d0-3a8d-48b0-a3c9-5d59b3152c30",
   "metadata": {},
   "outputs": [],
   "source": [
    "import pandas as pd\n",
    "\n",
    "import os"
   ]
  },
  {
   "cell_type": "code",
   "execution_count": 2,
   "id": "afb3230f-affd-43e8-902e-f843f2d27c42",
   "metadata": {},
   "outputs": [],
   "source": [
    "def list_all_files(directory):\n",
    "    # Loop over all directories and files in the given directory\n",
    "    paths = []\n",
    "    for dirpath, dirnames, filenames in os.walk(directory):\n",
    "        for filename in filenames:\n",
    "            # Full path of the file\n",
    "            full_path = os.path.join(dirpath, filename)\n",
    "            if '.feather' in filename:\n",
    "                paths.append(full_path)\n",
    "    return paths\n",
    "\n",
    "# Example usage:\n",
    "directory_path = 'open_policing'  # Replace with your directory path\n",
    "files = list_all_files(directory_path)"
   ]
  },
  {
   "cell_type": "code",
   "execution_count": 3,
   "id": "c8a7d644-3dd9-4975-bb11-9f39dfdc24d2",
   "metadata": {},
   "outputs": [
    {
     "name": "stdout",
     "output_type": "stream",
     "text": [
      "open_policing/yg821jf8611_nc_winston-salem_2020_04_01.csv/nc_winston-salem_2020_04_01.feather\n",
      "open_policing/yg821jf8611_nc_durham_2020_04_01.csv/nc_durham_2020_04_01.feather\n",
      "open_policing/yg821jf8611_nc_greensboro_2020_04_01.csv/nc_greensboro_2020_04_01.feather\n",
      "open_policing/yg821jf8611_nc_fayetteville_2020_04_01.csv/nc_fayetteville_2020_04_01.feather\n",
      "open_policing/yg821jf8611_nc_charlotte_2020_04_01.csv/nc_charlotte_2020_04_01.feather\n",
      "open_policing/yg821jf8611_nc_raleigh_2020_04_01.csv/nc_raleigh_2020_04_01.feather\n",
      "open_policing/yg821jf8611_nc_statewide_2020_04_01.csv/nc_statewide_2020_04_01.feather\n"
     ]
    }
   ],
   "source": [
    "dfs = []\n",
    "for f in files:\n",
    "    df_init = pd.read_feather(f)\n",
    "    #df_init.to_feather(f[:-4] + '.feather')\n",
    "    df_init['file'] = f\n",
    "    #df = dd.concat([df, df_init], axis=1, ignore_index=True)\n",
    "    dfs.append(df_init)\n",
    "    print(f)\n",
    "    #df_init.astype(str).to_hdf(output_file, key='df', index=False, append=True)"
   ]
  },
  {
   "cell_type": "code",
   "execution_count": 11,
   "id": "ad85718c-966a-43ba-b153-c0c1d9e9816f",
   "metadata": {},
   "outputs": [],
   "source": [
    "df = pd.concat(dfs, axis=0)"
   ]
  },
  {
   "cell_type": "code",
   "execution_count": 12,
   "id": "650184fc-ba8f-42dd-af80-a0d36035e210",
   "metadata": {},
   "outputs": [],
   "source": [
    "df.to_feather('data_products/nc_full_data.feather')"
   ]
  },
  {
   "cell_type": "code",
   "execution_count": 7,
   "id": "92544cad-f436-47d3-b5de-8537a03e5eb4",
   "metadata": {},
   "outputs": [
    {
     "data": {
      "text/html": [
       "<div>\n",
       "<style scoped>\n",
       "    .dataframe tbody tr th:only-of-type {\n",
       "        vertical-align: middle;\n",
       "    }\n",
       "\n",
       "    .dataframe tbody tr th {\n",
       "        vertical-align: top;\n",
       "    }\n",
       "\n",
       "    .dataframe thead th {\n",
       "        text-align: right;\n",
       "    }\n",
       "</style>\n",
       "<table border=\"1\" class=\"dataframe\">\n",
       "  <thead>\n",
       "    <tr style=\"text-align: right;\">\n",
       "      <th></th>\n",
       "      <th>raw_row_number</th>\n",
       "      <th>date</th>\n",
       "      <th>time</th>\n",
       "      <th>location</th>\n",
       "      <th>county_name</th>\n",
       "      <th>subject_age</th>\n",
       "      <th>subject_race</th>\n",
       "      <th>subject_sex</th>\n",
       "      <th>officer_id_hash</th>\n",
       "      <th>department_name</th>\n",
       "      <th>...</th>\n",
       "      <th>search_person</th>\n",
       "      <th>search_vehicle</th>\n",
       "      <th>search_basis</th>\n",
       "      <th>reason_for_frisk</th>\n",
       "      <th>reason_for_search</th>\n",
       "      <th>reason_for_stop</th>\n",
       "      <th>raw_Ethnicity</th>\n",
       "      <th>raw_Race</th>\n",
       "      <th>raw_action_description</th>\n",
       "      <th>file</th>\n",
       "    </tr>\n",
       "  </thead>\n",
       "  <tbody>\n",
       "    <tr>\n",
       "      <th>0</th>\n",
       "      <td>3225.0</td>\n",
       "      <td>2000-01-11</td>\n",
       "      <td>23:30:00</td>\n",
       "      <td>Unknown</td>\n",
       "      <td>None</td>\n",
       "      <td>49.0</td>\n",
       "      <td>black</td>\n",
       "      <td>female</td>\n",
       "      <td>22e35044ed</td>\n",
       "      <td>Winston-Salem State University Police Department</td>\n",
       "      <td>...</td>\n",
       "      <td>False</td>\n",
       "      <td>False</td>\n",
       "      <td>None</td>\n",
       "      <td>None</td>\n",
       "      <td>None</td>\n",
       "      <td>Speed Limit Violation</td>\n",
       "      <td>N</td>\n",
       "      <td>W</td>\n",
       "      <td>Citation Issued</td>\n",
       "      <td>open_policing/yg821jf8611_nc_statewide_2020_04...</td>\n",
       "    </tr>\n",
       "    <tr>\n",
       "      <th>1</th>\n",
       "      <td>3227.0</td>\n",
       "      <td>2000-01-12</td>\n",
       "      <td>00:59:00</td>\n",
       "      <td>Unknown</td>\n",
       "      <td>None</td>\n",
       "      <td>21.0</td>\n",
       "      <td>black</td>\n",
       "      <td>male</td>\n",
       "      <td>22e35044ed</td>\n",
       "      <td>Winston-Salem State University Police Department</td>\n",
       "      <td>...</td>\n",
       "      <td>False</td>\n",
       "      <td>False</td>\n",
       "      <td>None</td>\n",
       "      <td>None</td>\n",
       "      <td>None</td>\n",
       "      <td>Other Motor Vehicle Violation</td>\n",
       "      <td>N</td>\n",
       "      <td>W</td>\n",
       "      <td>Citation Issued</td>\n",
       "      <td>open_policing/yg821jf8611_nc_statewide_2020_04...</td>\n",
       "    </tr>\n",
       "    <tr>\n",
       "      <th>2</th>\n",
       "      <td>3232.0</td>\n",
       "      <td>2000-01-12</td>\n",
       "      <td>21:05:00</td>\n",
       "      <td>Unknown</td>\n",
       "      <td>None</td>\n",
       "      <td>22.0</td>\n",
       "      <td>white</td>\n",
       "      <td>male</td>\n",
       "      <td>22e35044ed</td>\n",
       "      <td>Winston-Salem State University Police Department</td>\n",
       "      <td>...</td>\n",
       "      <td>False</td>\n",
       "      <td>False</td>\n",
       "      <td>None</td>\n",
       "      <td>None</td>\n",
       "      <td>None</td>\n",
       "      <td>Speed Limit Violation</td>\n",
       "      <td>H</td>\n",
       "      <td>U</td>\n",
       "      <td>Written Warning</td>\n",
       "      <td>open_policing/yg821jf8611_nc_statewide_2020_04...</td>\n",
       "    </tr>\n",
       "    <tr>\n",
       "      <th>3</th>\n",
       "      <td>3235.0</td>\n",
       "      <td>2000-01-12</td>\n",
       "      <td>21:05:00</td>\n",
       "      <td>Unknown</td>\n",
       "      <td>None</td>\n",
       "      <td>21.0</td>\n",
       "      <td>black</td>\n",
       "      <td>female</td>\n",
       "      <td>22e35044ed</td>\n",
       "      <td>Winston-Salem State University Police Department</td>\n",
       "      <td>...</td>\n",
       "      <td>False</td>\n",
       "      <td>False</td>\n",
       "      <td>None</td>\n",
       "      <td>None</td>\n",
       "      <td>None</td>\n",
       "      <td>Vehicle Regulatory Violation</td>\n",
       "      <td>N</td>\n",
       "      <td>W</td>\n",
       "      <td>Citation Issued</td>\n",
       "      <td>open_policing/yg821jf8611_nc_statewide_2020_04...</td>\n",
       "    </tr>\n",
       "    <tr>\n",
       "      <th>4</th>\n",
       "      <td>3237.0</td>\n",
       "      <td>2000-01-12</td>\n",
       "      <td>22:37:00</td>\n",
       "      <td>Unknown</td>\n",
       "      <td>None</td>\n",
       "      <td>19.0</td>\n",
       "      <td>black</td>\n",
       "      <td>female</td>\n",
       "      <td>22e35044ed</td>\n",
       "      <td>Winston-Salem State University Police Department</td>\n",
       "      <td>...</td>\n",
       "      <td>False</td>\n",
       "      <td>False</td>\n",
       "      <td>None</td>\n",
       "      <td>None</td>\n",
       "      <td>None</td>\n",
       "      <td>Vehicle Regulatory Violation</td>\n",
       "      <td>N</td>\n",
       "      <td>W</td>\n",
       "      <td>Citation Issued</td>\n",
       "      <td>open_policing/yg821jf8611_nc_statewide_2020_04...</td>\n",
       "    </tr>\n",
       "  </tbody>\n",
       "</table>\n",
       "<p>5 rows × 210 columns</p>\n",
       "</div>"
      ],
      "text/plain": [
       "   raw_row_number        date      time location county_name  subject_age  \\\n",
       "0          3225.0  2000-01-11  23:30:00  Unknown        None         49.0   \n",
       "1          3227.0  2000-01-12  00:59:00  Unknown        None         21.0   \n",
       "2          3232.0  2000-01-12  21:05:00  Unknown        None         22.0   \n",
       "3          3235.0  2000-01-12  21:05:00  Unknown        None         21.0   \n",
       "4          3237.0  2000-01-12  22:37:00  Unknown        None         19.0   \n",
       "\n",
       "  subject_race subject_sex officer_id_hash  \\\n",
       "0        black      female      22e35044ed   \n",
       "1        black        male      22e35044ed   \n",
       "2        white        male      22e35044ed   \n",
       "3        black      female      22e35044ed   \n",
       "4        black      female      22e35044ed   \n",
       "\n",
       "                                    department_name  ... search_person  \\\n",
       "0  Winston-Salem State University Police Department  ...         False   \n",
       "1  Winston-Salem State University Police Department  ...         False   \n",
       "2  Winston-Salem State University Police Department  ...         False   \n",
       "3  Winston-Salem State University Police Department  ...         False   \n",
       "4  Winston-Salem State University Police Department  ...         False   \n",
       "\n",
       "  search_vehicle search_basis reason_for_frisk reason_for_search  \\\n",
       "0          False         None             None              None   \n",
       "1          False         None             None              None   \n",
       "2          False         None             None              None   \n",
       "3          False         None             None              None   \n",
       "4          False         None             None              None   \n",
       "\n",
       "                 reason_for_stop raw_Ethnicity raw_Race  \\\n",
       "0          Speed Limit Violation             N        W   \n",
       "1  Other Motor Vehicle Violation             N        W   \n",
       "2          Speed Limit Violation             H        U   \n",
       "3   Vehicle Regulatory Violation             N        W   \n",
       "4   Vehicle Regulatory Violation             N        W   \n",
       "\n",
       "  raw_action_description                                               file  \n",
       "0        Citation Issued  open_policing/yg821jf8611_nc_statewide_2020_04...  \n",
       "1        Citation Issued  open_policing/yg821jf8611_nc_statewide_2020_04...  \n",
       "2        Written Warning  open_policing/yg821jf8611_nc_statewide_2020_04...  \n",
       "3        Citation Issued  open_policing/yg821jf8611_nc_statewide_2020_04...  \n",
       "4        Citation Issued  open_policing/yg821jf8611_nc_statewide_2020_04...  \n",
       "\n",
       "[5 rows x 210 columns]"
      ]
     },
     "execution_count": 7,
     "metadata": {},
     "output_type": "execute_result"
    }
   ],
   "source": [
    "df.head()"
   ]
  },
  {
   "cell_type": "code",
   "execution_count": 13,
   "id": "7ed54967-5165-478b-a095-7e3a53836e80",
   "metadata": {},
   "outputs": [
    {
     "name": "stdout",
     "output_type": "stream",
     "text": [
      "['raw_row_number', 'date', 'time', 'location', 'county_name', 'subject_age', 'subject_race', 'subject_sex', 'officer_id_hash', 'department_name', 'type', 'arrest_made', 'citation_issued', 'warning_issued', 'outcome', 'contraband_found', 'contraband_drugs', 'contraband_weapons', 'frisk_performed', 'search_conducted', 'search_person', 'search_vehicle', 'search_basis', 'reason_for_frisk', 'reason_for_search', 'reason_for_stop', 'raw_Ethnicity', 'raw_Race', 'raw_action_description', 'file']\n"
     ]
    }
   ],
   "source": [
    "print(list(df.columns))"
   ]
  },
  {
   "cell_type": "code",
   "execution_count": 15,
   "id": "097002c3-a4bf-46f1-bac5-acb7318fbc76",
   "metadata": {},
   "outputs": [
    {
     "data": {
      "text/plain": [
       "raw_row_number              int64\n",
       "date                       object\n",
       "time                       object\n",
       "location                   object\n",
       "county_name                object\n",
       "subject_age               float64\n",
       "subject_race               object\n",
       "subject_sex                object\n",
       "officer_id_hash            object\n",
       "department_name            object\n",
       "type                       object\n",
       "arrest_made                  bool\n",
       "citation_issued              bool\n",
       "warning_issued               bool\n",
       "outcome                    object\n",
       "contraband_found           object\n",
       "contraband_drugs           object\n",
       "contraband_weapons         object\n",
       "frisk_performed              bool\n",
       "search_conducted             bool\n",
       "search_person                bool\n",
       "search_vehicle               bool\n",
       "search_basis               object\n",
       "reason_for_frisk           object\n",
       "reason_for_search          object\n",
       "reason_for_stop            object\n",
       "raw_Ethnicity              object\n",
       "raw_Race                   object\n",
       "raw_action_description     object\n",
       "file                       object\n",
       "dtype: object"
      ]
     },
     "execution_count": 15,
     "metadata": {},
     "output_type": "execute_result"
    }
   ],
   "source": [
    "df.dtypes"
   ]
  },
  {
   "cell_type": "code",
   "execution_count": 16,
   "id": "cb5d0f90-3540-4f27-8df1-a9790a9078b9",
   "metadata": {},
   "outputs": [],
   "source": [
    "df['datetime'] = pd.to_datetime(df['date'] + ' ' + df['time'])"
   ]
  },
  {
   "cell_type": "code",
   "execution_count": 17,
   "id": "06e59c21-8e83-4247-b032-0c20076e97c9",
   "metadata": {},
   "outputs": [
    {
     "data": {
      "text/plain": [
       "0          2000-01-11 23:30:00\n",
       "1          2000-01-12 00:59:00\n",
       "2          2000-01-12 21:05:00\n",
       "3          2000-01-12 21:05:00\n",
       "4          2000-01-12 22:37:00\n",
       "                   ...        \n",
       "20286640   2015-12-09 00:03:00\n",
       "20286641   2015-10-30 19:27:00\n",
       "20286642   2015-10-27 22:41:00\n",
       "20286643   2015-01-13 14:51:00\n",
       "20286644   2015-01-13 15:00:00\n",
       "Name: datetime, Length: 24607111, dtype: datetime64[ns]"
      ]
     },
     "execution_count": 17,
     "metadata": {},
     "output_type": "execute_result"
    }
   ],
   "source": [
    "df['datetime']"
   ]
  },
  {
   "cell_type": "code",
   "execution_count": 26,
   "id": "af6bbd9f-6cbb-4367-b389-259b5de33b5c",
   "metadata": {},
   "outputs": [],
   "source": [
    "df = df.reset_index(drop=True)"
   ]
  },
  {
   "cell_type": "code",
   "execution_count": 29,
   "id": "d4e4f795-53b6-4ccb-9cc5-9397c7046741",
   "metadata": {},
   "outputs": [
    {
     "data": {
      "text/plain": [
       "'open_policing/yg821jf8611_nc_statewide_2020_04_01.csv/nc_statewide_2020_04_01.feather'"
      ]
     },
     "execution_count": 29,
     "metadata": {},
     "output_type": "execute_result"
    }
   ],
   "source": [
    "df['file'].iloc[-1]"
   ]
  },
  {
   "cell_type": "code",
   "execution_count": 33,
   "id": "f952cc28-61a3-4074-8d5b-ae1670de1774",
   "metadata": {},
   "outputs": [],
   "source": [
    "import re\n",
    "def slice_string(s):\n",
    "    # Find the last '/' character\n",
    "    last_slash_index = s.rfind('/')\n",
    "    \n",
    "    # Find the first numerical character after the last '/'\n",
    "    match = re.search(r'\\d', s[last_slash_index + 1:])\n",
    "    \n",
    "    if match:\n",
    "        # Get the position of the first numerical character after the last '/'\n",
    "        first_digit_index = last_slash_index + 1 + match.start()\n",
    "        \n",
    "        # Slice the string between the last '/' and the first numerical character\n",
    "        return s[last_slash_index + 1:first_digit_index-1]\n",
    "    else:\n",
    "        return 'error'  # In case no numerical character is found"
   ]
  },
  {
   "cell_type": "code",
   "execution_count": 39,
   "id": "755fcc2a-c232-4271-a7d5-8eff8ceb7c9f",
   "metadata": {},
   "outputs": [],
   "source": [
    "df['file_source'] = df['file'].apply(slice_string).astype('category')"
   ]
  },
  {
   "cell_type": "code",
   "execution_count": 37,
   "id": "a14b053a-bb5d-429c-b5d0-f0fb464e3aec",
   "metadata": {},
   "outputs": [
    {
     "data": {
      "text/plain": [
       "0"
      ]
     },
     "execution_count": 37,
     "metadata": {},
     "output_type": "execute_result"
    }
   ],
   "source": [
    "(test == 'error').sum()"
   ]
  },
  {
   "cell_type": "code",
   "execution_count": 38,
   "id": "10c9173c-d7aa-48fd-a1f3-d0f88ff614c1",
   "metadata": {},
   "outputs": [
    {
     "data": {
      "text/plain": [
       "0           nc_winston-salem\n",
       "1           nc_winston-salem\n",
       "2           nc_winston-salem\n",
       "3           nc_winston-salem\n",
       "4           nc_winston-salem\n",
       "                  ...       \n",
       "24607106        nc_statewide\n",
       "24607107        nc_statewide\n",
       "24607108        nc_statewide\n",
       "24607109        nc_statewide\n",
       "24607110        nc_statewide\n",
       "Name: file, Length: 24607111, dtype: category\n",
       "Categories (7, object): ['nc_charlotte', 'nc_durham', 'nc_fayetteville', 'nc_greensboro', 'nc_raleigh', 'nc_statewide', 'nc_winston-salem']"
      ]
     },
     "execution_count": 38,
     "metadata": {},
     "output_type": "execute_result"
    }
   ],
   "source": [
    "test.astype('category')"
   ]
  },
  {
   "cell_type": "code",
   "execution_count": 40,
   "id": "54e65c81-515c-436b-bf8c-e8140e3feb0d",
   "metadata": {},
   "outputs": [
    {
     "data": {
      "text/plain": [
       "20286645"
      ]
     },
     "execution_count": 40,
     "metadata": {},
     "output_type": "execute_result"
    }
   ],
   "source": [
    "(df['file_source'] == 'nc_statewide').sum()"
   ]
  },
  {
   "cell_type": "code",
   "execution_count": 42,
   "id": "e0787072-5bcb-4366-8712-7c2d88890cde",
   "metadata": {},
   "outputs": [
    {
     "data": {
      "text/plain": [
       "24607111"
      ]
     },
     "execution_count": 42,
     "metadata": {},
     "output_type": "execute_result"
    }
   ],
   "source": [
    "df['file_source'].count()"
   ]
  },
  {
   "cell_type": "code",
   "execution_count": 43,
   "id": "4f3d09e5-6d23-4de3-9b92-c341da293eaa",
   "metadata": {},
   "outputs": [
    {
     "data": {
      "text/plain": [
       "Index(['raw_row_number', 'date', 'time', 'location', 'county_name',\n",
       "       'subject_age', 'subject_race', 'subject_sex', 'officer_id_hash',\n",
       "       'department_name', 'type', 'arrest_made', 'citation_issued',\n",
       "       'warning_issued', 'outcome', 'contraband_found', 'contraband_drugs',\n",
       "       'contraband_weapons', 'frisk_performed', 'search_conducted',\n",
       "       'search_person', 'search_vehicle', 'search_basis', 'reason_for_frisk',\n",
       "       'reason_for_search', 'reason_for_stop', 'raw_Ethnicity', 'raw_Race',\n",
       "       'raw_action_description', 'file', 'datetime', 'file_source'],\n",
       "      dtype='object')"
      ]
     },
     "execution_count": 43,
     "metadata": {},
     "output_type": "execute_result"
    }
   ],
   "source": [
    "df.columns"
   ]
  },
  {
   "cell_type": "code",
   "execution_count": 45,
   "id": "c999b366-4d24-4ce9-9e0a-010c0f10742a",
   "metadata": {},
   "outputs": [
    {
     "data": {
      "text/plain": [
       "raw_row_number                     int64\n",
       "date                              object\n",
       "time                              object\n",
       "location                          object\n",
       "county_name                       object\n",
       "subject_age                      float64\n",
       "subject_race                      object\n",
       "subject_sex                       object\n",
       "officer_id_hash                   object\n",
       "department_name                   object\n",
       "type                              object\n",
       "arrest_made                         bool\n",
       "citation_issued                     bool\n",
       "warning_issued                      bool\n",
       "outcome                           object\n",
       "contraband_found                  object\n",
       "contraband_drugs                  object\n",
       "contraband_weapons                object\n",
       "frisk_performed                     bool\n",
       "search_conducted                    bool\n",
       "search_person                       bool\n",
       "search_vehicle                      bool\n",
       "search_basis                      object\n",
       "reason_for_frisk                  object\n",
       "reason_for_search                 object\n",
       "reason_for_stop                   object\n",
       "raw_Ethnicity                     object\n",
       "raw_Race                          object\n",
       "raw_action_description            object\n",
       "file                              object\n",
       "datetime                  datetime64[ns]\n",
       "file_source                     category\n",
       "dtype: object"
      ]
     },
     "execution_count": 45,
     "metadata": {},
     "output_type": "execute_result"
    }
   ],
   "source": [
    "df.dtypes"
   ]
  },
  {
   "cell_type": "code",
   "execution_count": 47,
   "id": "266d7f7c-46a1-4f3c-aa62-23b008879b2f",
   "metadata": {},
   "outputs": [
    {
     "data": {
      "text/plain": [
       "13663"
      ]
     },
     "execution_count": 47,
     "metadata": {},
     "output_type": "execute_result"
    }
   ],
   "source": [
    "len(df['location'].unique())"
   ]
  },
  {
   "cell_type": "code",
   "execution_count": 54,
   "id": "7d66b24a-adc0-4bf0-af38-63bdba3cb382",
   "metadata": {},
   "outputs": [],
   "source": [
    "def process_string(s):\n",
    "    # Check if the string contains a comma\n",
    "    if s != None and ',' in s:\n",
    "        # Find the part after the last comma\n",
    "        result = s.split(',')[-1].strip().lower()\n",
    "        return result\n",
    "    else:\n",
    "        # Return the string as is if no comma is found\n",
    "        return s\n",
    "\n",
    "df['location_categorical'] = df['location'].apply(process_string).astype('category')"
   ]
  },
  {
   "cell_type": "code",
   "execution_count": 53,
   "id": "829daa60-84a1-421a-abad-cea43a67205b",
   "metadata": {},
   "outputs": [
    {
     "data": {
      "text/plain": [
       "155"
      ]
     },
     "execution_count": 53,
     "metadata": {},
     "output_type": "execute_result"
    }
   ],
   "source": [
    "len(test.unique())"
   ]
  },
  {
   "cell_type": "code",
   "execution_count": 56,
   "id": "c32f0540-21b7-4a06-a422-91697360a1b6",
   "metadata": {},
   "outputs": [],
   "source": [
    "df['search_basis_cat'] = df['search_basis'].astype('category')"
   ]
  },
  {
   "cell_type": "code",
   "execution_count": 60,
   "id": "348de86d-421f-454c-9478-9843afb60421",
   "metadata": {},
   "outputs": [],
   "source": [
    "df['county_name_cat'] = df['county_name'].astype('category')"
   ]
  },
  {
   "cell_type": "code",
   "execution_count": 64,
   "id": "9a69026c-a6f4-4264-9ad1-1368c44a852d",
   "metadata": {},
   "outputs": [],
   "source": [
    "df['subject_race_cat'] = df['subject_race'].astype('category')"
   ]
  },
  {
   "cell_type": "code",
   "execution_count": 67,
   "id": "f6034c62-f153-45c2-b53d-0e0951161d96",
   "metadata": {},
   "outputs": [],
   "source": [
    "df['department_name_cat'] = df['department_name'].astype('category')"
   ]
  },
  {
   "cell_type": "code",
   "execution_count": 70,
   "id": "3a546d38-273d-4803-884b-d45e8c0623a7",
   "metadata": {},
   "outputs": [],
   "source": [
    "df['outcome_cat'] = df['outcome'].astype('category')"
   ]
  },
  {
   "cell_type": "code",
   "execution_count": 74,
   "id": "406c79b8-2984-4a81-9909-625b085ef33c",
   "metadata": {},
   "outputs": [],
   "source": [
    "df['contraband_found_cat'] = df['contraband_found'].astype('category')"
   ]
  },
  {
   "cell_type": "code",
   "execution_count": 78,
   "id": "1a8bfe98-933b-420e-941c-a490f0dc3d92",
   "metadata": {},
   "outputs": [],
   "source": [
    "df['contraband_drugs_cat'] = df['contraband_drugs'].astype('category')"
   ]
  },
  {
   "cell_type": "code",
   "execution_count": 79,
   "id": "4d3cb383-8cc7-4e4c-a456-6316351b77f5",
   "metadata": {},
   "outputs": [],
   "source": [
    "df['contraband_weapons_cat'] = df['contraband_weapons'].astype('category')"
   ]
  },
  {
   "cell_type": "code",
   "execution_count": 81,
   "id": "2fc201ce-451d-490b-bd1c-814b3a5929d2",
   "metadata": {},
   "outputs": [],
   "source": [
    "df['search_basis_cat'] = df['search_basis'].astype('category')"
   ]
  },
  {
   "cell_type": "code",
   "execution_count": 83,
   "id": "4ba3cef8-aac5-4a48-89a5-5926d8243eca",
   "metadata": {},
   "outputs": [],
   "source": [
    "df['reason_for_frisk_cat'] = df['reason_for_frisk'].astype('category')"
   ]
  },
  {
   "cell_type": "code",
   "execution_count": 85,
   "id": "7887d98a-6fae-486d-8226-7903258d226b",
   "metadata": {},
   "outputs": [],
   "source": [
    "df['reason_for_search_cat'] = df['reason_for_search'].astype('category')"
   ]
  },
  {
   "cell_type": "code",
   "execution_count": 87,
   "id": "420d47e2-a567-4a9a-8ab0-320b0bc889e9",
   "metadata": {},
   "outputs": [],
   "source": [
    "df['reason_for_stop_cat'] = df['reason_for_stop'].astype('category')"
   ]
  },
  {
   "cell_type": "code",
   "execution_count": null,
   "id": "81541459-5f47-4da4-b8db-d337e2eca710",
   "metadata": {},
   "outputs": [],
   "source": []
  },
  {
   "cell_type": "code",
   "execution_count": 86,
   "id": "bc188a39-4aec-4ab8-8b83-e39b139eafd4",
   "metadata": {},
   "outputs": [
    {
     "data": {
      "text/plain": [
       "array(['Speed Limit Violation', 'Safe Movement Violation',\n",
       "       'Stop Light/Sign Violation', 'Vehicle Equipment Violation',\n",
       "       'Other Motor Vehicle Violation', 'Investigation',\n",
       "       'Driving While Impaired', 'Seat Belt Violation',\n",
       "       'Vehicle Regulatory Violation', 'Checkpoint'], dtype=object)"
      ]
     },
     "execution_count": 86,
     "metadata": {},
     "output_type": "execute_result"
    }
   ],
   "source": [
    "df['reason_for_stop'].unique()"
   ]
  },
  {
   "cell_type": "code",
   "execution_count": 75,
   "id": "ddbd3a10-c527-4173-a9b7-4563720e6f94",
   "metadata": {},
   "outputs": [
    {
     "data": {
      "text/plain": [
       "0"
      ]
     },
     "execution_count": 75,
     "metadata": {},
     "output_type": "execute_result"
    }
   ],
   "source": [
    "(df['contraband_drugs'].astype(bool) == None).sum()"
   ]
  },
  {
   "cell_type": "code",
   "execution_count": 88,
   "id": "23e97cf7-c19c-49a1-9200-eeb50b269a3a",
   "metadata": {},
   "outputs": [
    {
     "data": {
      "text/plain": [
       "Index(['raw_row_number', 'date', 'time', 'location', 'county_name',\n",
       "       'subject_age', 'subject_race', 'subject_sex', 'officer_id_hash',\n",
       "       'department_name', 'type', 'arrest_made', 'citation_issued',\n",
       "       'warning_issued', 'outcome', 'contraband_found', 'contraband_drugs',\n",
       "       'contraband_weapons', 'frisk_performed', 'search_conducted',\n",
       "       'search_person', 'search_vehicle', 'search_basis', 'reason_for_frisk',\n",
       "       'reason_for_search', 'reason_for_stop', 'raw_Ethnicity', 'raw_Race',\n",
       "       'raw_action_description', 'file', 'datetime', 'file_source',\n",
       "       'location_categorical', 'search_basis_cat', 'county_name_cat',\n",
       "       'subject_race_cat', 'department_name_cat', 'outcome_cat',\n",
       "       'contraband_found_cat', 'contraband_drugs_cat',\n",
       "       'contraband_weapons_cat', 'reason_for_frisk_cat',\n",
       "       'reason_for_search_cat', 'reason_for_stop_cat'],\n",
       "      dtype='object')"
      ]
     },
     "execution_count": 88,
     "metadata": {},
     "output_type": "execute_result"
    }
   ],
   "source": [
    "df.columns"
   ]
  },
  {
   "cell_type": "code",
   "execution_count": 96,
   "id": "beeabc3f-c85a-4dba-ba92-54ca83928067",
   "metadata": {},
   "outputs": [
    {
     "data": {
      "text/plain": [
       "array(['Verbal Warning', 'Citation Issued', 'Written Warning',\n",
       "       'On-View Arrest', 'No Action Taken'], dtype=object)"
      ]
     },
     "execution_count": 96,
     "metadata": {},
     "output_type": "execute_result"
    }
   ],
   "source": [
    "df['raw_action_description'].unique()"
   ]
  },
  {
   "cell_type": "code",
   "execution_count": 98,
   "id": "4a1fdb4e-0816-4f8d-9364-a7c52df283aa",
   "metadata": {},
   "outputs": [],
   "source": [
    "df['raw_action_description_cat'] = df['raw_action_description'].astype('category')"
   ]
  },
  {
   "cell_type": "code",
   "execution_count": 95,
   "id": "d2048173-5921-4ef3-a928-e88e1e44e1af",
   "metadata": {},
   "outputs": [],
   "source": [
    "df['subject_sex_cat'] = df['subject_sex'].astype('category')"
   ]
  },
  {
   "cell_type": "code",
   "execution_count": 93,
   "id": "06b49d8a-2d95-4391-9199-ee2830785864",
   "metadata": {},
   "outputs": [],
   "source": [
    "df['raw_ethnicity_cat'] = df['raw_Ethnicity'].astype('category')"
   ]
  },
  {
   "cell_type": "code",
   "execution_count": 105,
   "id": "aedebb2f-9cb5-4167-8fff-2295250d47d8",
   "metadata": {},
   "outputs": [],
   "source": [
    "df_out = df[['datetime', 'file_source', 'county_name_cat', 'subject_age', 'subject_sex_cat', 'subject_race_cat', 'raw_ethnicity_cat', 'department_name_cat', 'outcome_cat', 'raw_action_description_cat', 'contraband_found_cat', 'contraband_drugs_cat', 'contraband_weapons_cat', 'reason_for_frisk_cat', 'reason_for_search_cat', 'reason_for_stop_cat']]"
   ]
  },
  {
   "cell_type": "code",
   "execution_count": 100,
   "id": "71aef316-2c01-4f56-93f8-fc0d29dd32a4",
   "metadata": {},
   "outputs": [
    {
     "data": {
      "text/html": [
       "<div>\n",
       "<style scoped>\n",
       "    .dataframe tbody tr th:only-of-type {\n",
       "        vertical-align: middle;\n",
       "    }\n",
       "\n",
       "    .dataframe tbody tr th {\n",
       "        vertical-align: top;\n",
       "    }\n",
       "\n",
       "    .dataframe thead th {\n",
       "        text-align: right;\n",
       "    }\n",
       "</style>\n",
       "<table border=\"1\" class=\"dataframe\">\n",
       "  <thead>\n",
       "    <tr style=\"text-align: right;\">\n",
       "      <th></th>\n",
       "      <th>datetime</th>\n",
       "      <th>file_source</th>\n",
       "      <th>county_name_cat</th>\n",
       "      <th>raw_action_description_cat</th>\n",
       "      <th>subject_age</th>\n",
       "      <th>subject_sex_cat</th>\n",
       "      <th>subject_race_cat</th>\n",
       "      <th>raw_ethnicity_cat</th>\n",
       "      <th>department_name_cat</th>\n",
       "      <th>outcome_cat</th>\n",
       "      <th>raw_action_description_cat</th>\n",
       "      <th>contraband_found_cat</th>\n",
       "      <th>contraband_drugs_cat</th>\n",
       "      <th>contraband_weapons_cat</th>\n",
       "      <th>reason_for_frisk_cat</th>\n",
       "      <th>reason_for_search_cat</th>\n",
       "      <th>reason_for_stop_cat</th>\n",
       "    </tr>\n",
       "  </thead>\n",
       "  <tbody>\n",
       "    <tr>\n",
       "      <th>0</th>\n",
       "      <td>2000-01-11 23:30:00</td>\n",
       "      <td>nc_winston-salem</td>\n",
       "      <td>NaN</td>\n",
       "      <td>Verbal Warning</td>\n",
       "      <td>49.0</td>\n",
       "      <td>female</td>\n",
       "      <td>black</td>\n",
       "      <td>N</td>\n",
       "      <td>Winston-Salem State University Police Department</td>\n",
       "      <td>warning</td>\n",
       "      <td>Verbal Warning</td>\n",
       "      <td>NaN</td>\n",
       "      <td>NaN</td>\n",
       "      <td>NaN</td>\n",
       "      <td>NaN</td>\n",
       "      <td>NaN</td>\n",
       "      <td>Speed Limit Violation</td>\n",
       "    </tr>\n",
       "    <tr>\n",
       "      <th>1</th>\n",
       "      <td>2000-01-12 00:59:00</td>\n",
       "      <td>nc_winston-salem</td>\n",
       "      <td>NaN</td>\n",
       "      <td>Citation Issued</td>\n",
       "      <td>21.0</td>\n",
       "      <td>male</td>\n",
       "      <td>black</td>\n",
       "      <td>N</td>\n",
       "      <td>Winston-Salem State University Police Department</td>\n",
       "      <td>citation</td>\n",
       "      <td>Citation Issued</td>\n",
       "      <td>NaN</td>\n",
       "      <td>NaN</td>\n",
       "      <td>NaN</td>\n",
       "      <td>NaN</td>\n",
       "      <td>NaN</td>\n",
       "      <td>Speed Limit Violation</td>\n",
       "    </tr>\n",
       "    <tr>\n",
       "      <th>2</th>\n",
       "      <td>2000-01-12 21:05:00</td>\n",
       "      <td>nc_winston-salem</td>\n",
       "      <td>NaN</td>\n",
       "      <td>Written Warning</td>\n",
       "      <td>22.0</td>\n",
       "      <td>male</td>\n",
       "      <td>white</td>\n",
       "      <td>N</td>\n",
       "      <td>Winston-Salem State University Police Department</td>\n",
       "      <td>warning</td>\n",
       "      <td>Written Warning</td>\n",
       "      <td>NaN</td>\n",
       "      <td>NaN</td>\n",
       "      <td>NaN</td>\n",
       "      <td>NaN</td>\n",
       "      <td>NaN</td>\n",
       "      <td>Speed Limit Violation</td>\n",
       "    </tr>\n",
       "    <tr>\n",
       "      <th>3</th>\n",
       "      <td>2000-01-12 21:05:00</td>\n",
       "      <td>nc_winston-salem</td>\n",
       "      <td>NaN</td>\n",
       "      <td>Citation Issued</td>\n",
       "      <td>21.0</td>\n",
       "      <td>female</td>\n",
       "      <td>black</td>\n",
       "      <td>N</td>\n",
       "      <td>Winston-Salem State University Police Department</td>\n",
       "      <td>citation</td>\n",
       "      <td>Citation Issued</td>\n",
       "      <td>NaN</td>\n",
       "      <td>NaN</td>\n",
       "      <td>NaN</td>\n",
       "      <td>NaN</td>\n",
       "      <td>NaN</td>\n",
       "      <td>Safe Movement Violation</td>\n",
       "    </tr>\n",
       "    <tr>\n",
       "      <th>4</th>\n",
       "      <td>2000-01-12 22:37:00</td>\n",
       "      <td>nc_winston-salem</td>\n",
       "      <td>NaN</td>\n",
       "      <td>Verbal Warning</td>\n",
       "      <td>19.0</td>\n",
       "      <td>female</td>\n",
       "      <td>black</td>\n",
       "      <td>N</td>\n",
       "      <td>Winston-Salem State University Police Department</td>\n",
       "      <td>warning</td>\n",
       "      <td>Verbal Warning</td>\n",
       "      <td>NaN</td>\n",
       "      <td>NaN</td>\n",
       "      <td>NaN</td>\n",
       "      <td>NaN</td>\n",
       "      <td>NaN</td>\n",
       "      <td>Safe Movement Violation</td>\n",
       "    </tr>\n",
       "    <tr>\n",
       "      <th>...</th>\n",
       "      <td>...</td>\n",
       "      <td>...</td>\n",
       "      <td>...</td>\n",
       "      <td>...</td>\n",
       "      <td>...</td>\n",
       "      <td>...</td>\n",
       "      <td>...</td>\n",
       "      <td>...</td>\n",
       "      <td>...</td>\n",
       "      <td>...</td>\n",
       "      <td>...</td>\n",
       "      <td>...</td>\n",
       "      <td>...</td>\n",
       "      <td>...</td>\n",
       "      <td>...</td>\n",
       "      <td>...</td>\n",
       "      <td>...</td>\n",
       "    </tr>\n",
       "    <tr>\n",
       "      <th>24607106</th>\n",
       "      <td>2015-12-09 00:03:00</td>\n",
       "      <td>nc_statewide</td>\n",
       "      <td>Jackson County</td>\n",
       "      <td>Citation Issued</td>\n",
       "      <td>18.0</td>\n",
       "      <td>male</td>\n",
       "      <td>white</td>\n",
       "      <td>N</td>\n",
       "      <td>Jackson County Sheriff's Office</td>\n",
       "      <td>citation</td>\n",
       "      <td>Citation Issued</td>\n",
       "      <td>NaN</td>\n",
       "      <td>NaN</td>\n",
       "      <td>NaN</td>\n",
       "      <td>NaN</td>\n",
       "      <td>NaN</td>\n",
       "      <td>Speed Limit Violation</td>\n",
       "    </tr>\n",
       "    <tr>\n",
       "      <th>24607107</th>\n",
       "      <td>2015-10-30 19:27:00</td>\n",
       "      <td>nc_statewide</td>\n",
       "      <td>Jackson County</td>\n",
       "      <td>On-View Arrest</td>\n",
       "      <td>31.0</td>\n",
       "      <td>male</td>\n",
       "      <td>white</td>\n",
       "      <td>N</td>\n",
       "      <td>Jackson County Sheriff's Office</td>\n",
       "      <td>arrest</td>\n",
       "      <td>On-View Arrest</td>\n",
       "      <td>NaN</td>\n",
       "      <td>NaN</td>\n",
       "      <td>NaN</td>\n",
       "      <td>NaN</td>\n",
       "      <td>NaN</td>\n",
       "      <td>Investigation</td>\n",
       "    </tr>\n",
       "    <tr>\n",
       "      <th>24607108</th>\n",
       "      <td>2015-10-27 22:41:00</td>\n",
       "      <td>nc_statewide</td>\n",
       "      <td>Jackson County</td>\n",
       "      <td>Citation Issued</td>\n",
       "      <td>21.0</td>\n",
       "      <td>female</td>\n",
       "      <td>white</td>\n",
       "      <td>N</td>\n",
       "      <td>Jackson County Sheriff's Office</td>\n",
       "      <td>citation</td>\n",
       "      <td>Citation Issued</td>\n",
       "      <td>NaN</td>\n",
       "      <td>NaN</td>\n",
       "      <td>NaN</td>\n",
       "      <td>NaN</td>\n",
       "      <td>NaN</td>\n",
       "      <td>Speed Limit Violation</td>\n",
       "    </tr>\n",
       "    <tr>\n",
       "      <th>24607109</th>\n",
       "      <td>2015-01-13 14:51:00</td>\n",
       "      <td>nc_statewide</td>\n",
       "      <td>Jackson County</td>\n",
       "      <td>Written Warning</td>\n",
       "      <td>21.0</td>\n",
       "      <td>male</td>\n",
       "      <td>white</td>\n",
       "      <td>N</td>\n",
       "      <td>Jackson County Sheriff's Office</td>\n",
       "      <td>warning</td>\n",
       "      <td>Written Warning</td>\n",
       "      <td>NaN</td>\n",
       "      <td>NaN</td>\n",
       "      <td>NaN</td>\n",
       "      <td>NaN</td>\n",
       "      <td>NaN</td>\n",
       "      <td>Speed Limit Violation</td>\n",
       "    </tr>\n",
       "    <tr>\n",
       "      <th>24607110</th>\n",
       "      <td>2015-01-13 15:00:00</td>\n",
       "      <td>nc_statewide</td>\n",
       "      <td>Jackson County</td>\n",
       "      <td>Written Warning</td>\n",
       "      <td>33.0</td>\n",
       "      <td>male</td>\n",
       "      <td>black</td>\n",
       "      <td>N</td>\n",
       "      <td>Jackson County Sheriff's Office</td>\n",
       "      <td>warning</td>\n",
       "      <td>Written Warning</td>\n",
       "      <td>NaN</td>\n",
       "      <td>NaN</td>\n",
       "      <td>NaN</td>\n",
       "      <td>NaN</td>\n",
       "      <td>NaN</td>\n",
       "      <td>Speed Limit Violation</td>\n",
       "    </tr>\n",
       "  </tbody>\n",
       "</table>\n",
       "<p>24607111 rows × 17 columns</p>\n",
       "</div>"
      ],
      "text/plain": [
       "                    datetime       file_source county_name_cat  \\\n",
       "0        2000-01-11 23:30:00  nc_winston-salem             NaN   \n",
       "1        2000-01-12 00:59:00  nc_winston-salem             NaN   \n",
       "2        2000-01-12 21:05:00  nc_winston-salem             NaN   \n",
       "3        2000-01-12 21:05:00  nc_winston-salem             NaN   \n",
       "4        2000-01-12 22:37:00  nc_winston-salem             NaN   \n",
       "...                      ...               ...             ...   \n",
       "24607106 2015-12-09 00:03:00      nc_statewide  Jackson County   \n",
       "24607107 2015-10-30 19:27:00      nc_statewide  Jackson County   \n",
       "24607108 2015-10-27 22:41:00      nc_statewide  Jackson County   \n",
       "24607109 2015-01-13 14:51:00      nc_statewide  Jackson County   \n",
       "24607110 2015-01-13 15:00:00      nc_statewide  Jackson County   \n",
       "\n",
       "         raw_action_description_cat  subject_age subject_sex_cat  \\\n",
       "0                    Verbal Warning         49.0          female   \n",
       "1                   Citation Issued         21.0            male   \n",
       "2                   Written Warning         22.0            male   \n",
       "3                   Citation Issued         21.0          female   \n",
       "4                    Verbal Warning         19.0          female   \n",
       "...                             ...          ...             ...   \n",
       "24607106            Citation Issued         18.0            male   \n",
       "24607107             On-View Arrest         31.0            male   \n",
       "24607108            Citation Issued         21.0          female   \n",
       "24607109            Written Warning         21.0            male   \n",
       "24607110            Written Warning         33.0            male   \n",
       "\n",
       "         subject_race_cat raw_ethnicity_cat  \\\n",
       "0                   black                 N   \n",
       "1                   black                 N   \n",
       "2                   white                 N   \n",
       "3                   black                 N   \n",
       "4                   black                 N   \n",
       "...                   ...               ...   \n",
       "24607106            white                 N   \n",
       "24607107            white                 N   \n",
       "24607108            white                 N   \n",
       "24607109            white                 N   \n",
       "24607110            black                 N   \n",
       "\n",
       "                                       department_name_cat outcome_cat  \\\n",
       "0         Winston-Salem State University Police Department     warning   \n",
       "1         Winston-Salem State University Police Department    citation   \n",
       "2         Winston-Salem State University Police Department     warning   \n",
       "3         Winston-Salem State University Police Department    citation   \n",
       "4         Winston-Salem State University Police Department     warning   \n",
       "...                                                    ...         ...   \n",
       "24607106                   Jackson County Sheriff's Office    citation   \n",
       "24607107                   Jackson County Sheriff's Office      arrest   \n",
       "24607108                   Jackson County Sheriff's Office    citation   \n",
       "24607109                   Jackson County Sheriff's Office     warning   \n",
       "24607110                   Jackson County Sheriff's Office     warning   \n",
       "\n",
       "         raw_action_description_cat contraband_found_cat contraband_drugs_cat  \\\n",
       "0                    Verbal Warning                  NaN                  NaN   \n",
       "1                   Citation Issued                  NaN                  NaN   \n",
       "2                   Written Warning                  NaN                  NaN   \n",
       "3                   Citation Issued                  NaN                  NaN   \n",
       "4                    Verbal Warning                  NaN                  NaN   \n",
       "...                             ...                  ...                  ...   \n",
       "24607106            Citation Issued                  NaN                  NaN   \n",
       "24607107             On-View Arrest                  NaN                  NaN   \n",
       "24607108            Citation Issued                  NaN                  NaN   \n",
       "24607109            Written Warning                  NaN                  NaN   \n",
       "24607110            Written Warning                  NaN                  NaN   \n",
       "\n",
       "         contraband_weapons_cat reason_for_frisk_cat reason_for_search_cat  \\\n",
       "0                           NaN                  NaN                   NaN   \n",
       "1                           NaN                  NaN                   NaN   \n",
       "2                           NaN                  NaN                   NaN   \n",
       "3                           NaN                  NaN                   NaN   \n",
       "4                           NaN                  NaN                   NaN   \n",
       "...                         ...                  ...                   ...   \n",
       "24607106                    NaN                  NaN                   NaN   \n",
       "24607107                    NaN                  NaN                   NaN   \n",
       "24607108                    NaN                  NaN                   NaN   \n",
       "24607109                    NaN                  NaN                   NaN   \n",
       "24607110                    NaN                  NaN                   NaN   \n",
       "\n",
       "              reason_for_stop_cat  \n",
       "0           Speed Limit Violation  \n",
       "1           Speed Limit Violation  \n",
       "2           Speed Limit Violation  \n",
       "3         Safe Movement Violation  \n",
       "4         Safe Movement Violation  \n",
       "...                           ...  \n",
       "24607106    Speed Limit Violation  \n",
       "24607107            Investigation  \n",
       "24607108    Speed Limit Violation  \n",
       "24607109    Speed Limit Violation  \n",
       "24607110    Speed Limit Violation  \n",
       "\n",
       "[24607111 rows x 17 columns]"
      ]
     },
     "execution_count": 100,
     "metadata": {},
     "output_type": "execute_result"
    }
   ],
   "source": [
    "df_out"
   ]
  },
  {
   "cell_type": "code",
   "execution_count": 102,
   "id": "a5f8d3cc-45c5-4d73-83ff-b3afc3de6da8",
   "metadata": {},
   "outputs": [
    {
     "data": {
      "text/plain": [
       "[NaN, True, False]\n",
       "Categories (2, bool): [False, True]"
      ]
     },
     "execution_count": 102,
     "metadata": {},
     "output_type": "execute_result"
    }
   ],
   "source": [
    "df_out['contraband_found_cat'].unique()"
   ]
  },
  {
   "cell_type": "code",
   "execution_count": 106,
   "id": "8e820b84-d32e-44ba-a67a-108701c70241",
   "metadata": {},
   "outputs": [],
   "source": [
    "df_out.to_feather('data_products/nc_reduced_data.feather')"
   ]
  },
  {
   "cell_type": "code",
   "execution_count": 104,
   "id": "ad852551-a241-4238-b760-0b623e9691d8",
   "metadata": {},
   "outputs": [
    {
     "data": {
      "text/plain": [
       "Index(['datetime', 'file_source', 'county_name_cat',\n",
       "       'raw_action_description_cat', 'subject_age', 'subject_sex_cat',\n",
       "       'subject_race_cat', 'raw_ethnicity_cat', 'department_name_cat',\n",
       "       'outcome_cat', 'raw_action_description_cat', 'contraband_found_cat',\n",
       "       'contraband_drugs_cat', 'contraband_weapons_cat',\n",
       "       'reason_for_frisk_cat', 'reason_for_search_cat', 'reason_for_stop_cat'],\n",
       "      dtype='object')"
      ]
     },
     "execution_count": 104,
     "metadata": {},
     "output_type": "execute_result"
    }
   ],
   "source": [
    "df_out.columns"
   ]
  },
  {
   "cell_type": "code",
   "execution_count": null,
   "id": "34df9353-96d5-4e13-9eb3-49f8f46f419c",
   "metadata": {},
   "outputs": [],
   "source": []
  }
 ],
 "metadata": {
  "kernelspec": {
   "display_name": "Python 3 (ipykernel)",
   "language": "python",
   "name": "python3"
  },
  "language_info": {
   "codemirror_mode": {
    "name": "ipython",
    "version": 3
   },
   "file_extension": ".py",
   "mimetype": "text/x-python",
   "name": "python",
   "nbconvert_exporter": "python",
   "pygments_lexer": "ipython3",
   "version": "3.10.9"
  }
 },
 "nbformat": 4,
 "nbformat_minor": 5
}
