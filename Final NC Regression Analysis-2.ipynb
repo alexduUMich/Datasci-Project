{
 "cells": [
  {
   "cell_type": "code",
   "execution_count": 1,
   "metadata": {},
   "outputs": [
    {
     "name": "stdout",
     "output_type": "stream",
     "text": [
      "Requirement already satisfied: pandas in /Users/fasihz/anaconda3/lib/python3.11/site-packages (2.0.3)\n",
      "Requirement already satisfied: pyarrow in /Users/fasihz/anaconda3/lib/python3.11/site-packages (11.0.0)\n",
      "Requirement already satisfied: python-dateutil>=2.8.2 in /Users/fasihz/anaconda3/lib/python3.11/site-packages (from pandas) (2.8.2)\n",
      "Requirement already satisfied: pytz>=2020.1 in /Users/fasihz/anaconda3/lib/python3.11/site-packages (from pandas) (2022.7)\n",
      "Requirement already satisfied: tzdata>=2022.1 in /Users/fasihz/anaconda3/lib/python3.11/site-packages (from pandas) (2023.3)\n",
      "Requirement already satisfied: numpy>=1.21.0 in /Users/fasihz/anaconda3/lib/python3.11/site-packages (from pandas) (1.24.3)\n",
      "Requirement already satisfied: six>=1.5 in /Users/fasihz/anaconda3/lib/python3.11/site-packages (from python-dateutil>=2.8.2->pandas) (1.16.0)\n"
     ]
    }
   ],
   "source": [
    "!pip install pandas pyarrow"
   ]
  },
  {
   "cell_type": "code",
   "execution_count": 2,
   "metadata": {},
   "outputs": [
    {
     "name": "stdout",
     "output_type": "stream",
     "text": [
      "/Users/fasihz/Duke/COMPSCI 526: Data Science\n",
      "             datetime       file_source county_name_cat  subject_age  \\\n",
      "0 2000-01-11 23:30:00  nc_winston-salem             NaN         49.0   \n",
      "1 2000-01-12 00:59:00  nc_winston-salem             NaN         21.0   \n",
      "2 2000-01-12 21:05:00  nc_winston-salem             NaN         22.0   \n",
      "3 2000-01-12 21:05:00  nc_winston-salem             NaN         21.0   \n",
      "4 2000-01-12 22:37:00  nc_winston-salem             NaN         19.0   \n",
      "\n",
      "  subject_sex_cat subject_race_cat raw_ethnicity_cat  \\\n",
      "0          female            black                 N   \n",
      "1            male            black                 N   \n",
      "2            male            white                 N   \n",
      "3          female            black                 N   \n",
      "4          female            black                 N   \n",
      "\n",
      "                                department_name_cat outcome_cat  \\\n",
      "0  Winston-Salem State University Police Department     warning   \n",
      "1  Winston-Salem State University Police Department    citation   \n",
      "2  Winston-Salem State University Police Department     warning   \n",
      "3  Winston-Salem State University Police Department    citation   \n",
      "4  Winston-Salem State University Police Department     warning   \n",
      "\n",
      "  raw_action_description_cat contraband_found_cat contraband_drugs_cat  \\\n",
      "0             Verbal Warning                  NaN                  NaN   \n",
      "1            Citation Issued                  NaN                  NaN   \n",
      "2            Written Warning                  NaN                  NaN   \n",
      "3            Citation Issued                  NaN                  NaN   \n",
      "4             Verbal Warning                  NaN                  NaN   \n",
      "\n",
      "  contraband_weapons_cat reason_for_frisk_cat reason_for_search_cat  \\\n",
      "0                    NaN                  NaN                   NaN   \n",
      "1                    NaN                  NaN                   NaN   \n",
      "2                    NaN                  NaN                   NaN   \n",
      "3                    NaN                  NaN                   NaN   \n",
      "4                    NaN                  NaN                   NaN   \n",
      "\n",
      "       reason_for_stop_cat  \n",
      "0    Speed Limit Violation  \n",
      "1    Speed Limit Violation  \n",
      "2    Speed Limit Violation  \n",
      "3  Safe Movement Violation  \n",
      "4  Safe Movement Violation  \n"
     ]
    }
   ],
   "source": [
    "import os\n",
    "import numpy as np\n",
    "print(os.getcwd())\n",
    "\n",
    "import pandas as pd\n",
    "\n",
    "file_path = 'nc_reduced_data.feather'\n",
    "data = pd.read_feather(file_path)\n",
    "print(data.head())"
   ]
  },
  {
   "cell_type": "code",
   "execution_count": 3,
   "metadata": {},
   "outputs": [
    {
     "name": "stdout",
     "output_type": "stream",
     "text": [
      "Index(['datetime', 'file_source', 'county_name_cat', 'subject_age',\n",
      "       'subject_sex_cat', 'subject_race_cat', 'raw_ethnicity_cat',\n",
      "       'department_name_cat', 'outcome_cat', 'raw_action_description_cat',\n",
      "       'contraband_found_cat', 'contraband_drugs_cat',\n",
      "       'contraband_weapons_cat', 'reason_for_frisk_cat',\n",
      "       'reason_for_search_cat', 'reason_for_stop_cat'],\n",
      "      dtype='object')\n",
      "columns: datetime\n",
      "number of unique values: 5680426\n",
      "unique values: <DatetimeArray>\n",
      "['2000-01-11 23:30:00', '2000-01-12 00:59:00', '2000-01-12 21:05:00',\n",
      " '2000-01-12 22:37:00', '2000-01-12 23:05:00', '2000-01-13 23:50:00',\n",
      " '2000-01-12 23:30:00', '2000-01-15 18:45:00', '2000-01-30 01:20:00',\n",
      " '2000-01-28 08:57:00',\n",
      " ...\n",
      " '2015-12-08 13:49:00', '2010-12-08 19:59:00', '2015-12-31 04:40:00',\n",
      " '2015-10-26 16:27:00', '2015-10-27 15:52:00', '2015-12-30 19:15:00',\n",
      " '2015-11-12 13:48:00', '2015-09-28 08:51:00', '2015-12-26 17:01:00',\n",
      " '2015-10-30 19:27:00']\n",
      "Length: 5680426, dtype: datetime64[ns]\n",
      "columns: file_source\n",
      "number of unique values: 7\n",
      "unique values: ['nc_winston-salem', 'nc_durham', 'nc_greensboro', 'nc_fayetteville', 'nc_charlotte', 'nc_raleigh', 'nc_statewide']\n",
      "Categories (7, object): ['nc_charlotte', 'nc_durham', 'nc_fayetteville', 'nc_greensboro', 'nc_raleigh', 'nc_statewide', 'nc_winston-salem']\n",
      "columns: county_name_cat\n",
      "number of unique values: 101\n",
      "unique values: [NaN, 'Forsyth County', 'Sampson County', 'Camden County', 'Durham County', ..., 'Transylvania County', 'Ashe County', 'Swain County', 'Mitchell County', 'Hyde County']\n",
      "Length: 101\n",
      "Categories (100, object): ['Alamance County', 'Alexander County', 'Alleghany County', 'Anson County', ..., 'Wilkes County', 'Wilson County', 'Yadkin County', 'Yancey County']\n",
      "columns: subject_age\n",
      "number of unique values: 101\n",
      "unique values: [ 49.  21.  22.  19.  20.  24.  26.  23.  34.  27.  44.  32.  17.  18.\n",
      "  25.  30.  45.  37.  29.  31.  46.  28.  36.  33.  43.  67.  39.  40.\n",
      "  50.  48.  54.  42.  63.  35.  60.  62.  68.  75.  57.  38.  76.  51.\n",
      "  56.  52.  47.  71.  59.  72.  55.  16.  41.  70.  61.  86.  58.  53.\n",
      "  66.  77.  64.  65.  80.  69.  74.  81.  73.  78.  79.  83.  85.  87.\n",
      "  84.  15.  82.  89.  14.  10.  88.  94.  90.  92.  11.  13.  91.  95.\n",
      "  12.  96.  97.  93.  99.  nan  98. 103. 100. 110. 108. 102. 109. 101.\n",
      " 104. 105. 106.]\n",
      "columns: subject_sex_cat\n",
      "number of unique values: 3\n",
      "unique values: ['female', 'male', NaN]\n",
      "Categories (2, object): ['female', 'male']\n",
      "columns: subject_race_cat\n",
      "number of unique values: 7\n",
      "unique values: ['black', 'white', 'hispanic', 'unknown', 'asian/pacific islander', 'other', NaN]\n",
      "Categories (6, object): ['asian/pacific islander', 'black', 'hispanic', 'other', 'unknown', 'white']\n",
      "columns: raw_ethnicity_cat\n",
      "number of unique values: 3\n",
      "unique values: ['N', 'H', NaN]\n",
      "Categories (2, object): ['H', 'N']\n",
      "columns: department_name_cat\n",
      "number of unique values: 312\n",
      "unique values: ['Winston-Salem State University Police Departm..., 'Winston-Salem Police Department', 'Durham Police Department', 'Durham County Sheriff's Office', 'UNC Greensboro University Police Department', ..., 'Red Springs Police Department', 'Knightdale Police Department', 'Sharpsburg Police Department', 'Hillsborough Police Department', 'Burgaw Police Department']\n",
      "Length: 312\n",
      "Categories (312, object): ['Aberdeen Police Department', 'Alamance County Sheriff's Office', 'Albemarle Police Department', 'Alexander County Sheriff's Office', ..., 'Yadkin County Sheriff's Office', 'Yancey County Sheriff's Office', 'Youngsville Police Department', 'Zebulon Police Department']\n",
      "columns: outcome_cat\n",
      "number of unique values: 4\n",
      "unique values: ['warning', 'citation', 'arrest', NaN]\n",
      "Categories (3, object): ['arrest', 'citation', 'warning']\n",
      "columns: raw_action_description_cat\n",
      "number of unique values: 5\n",
      "unique values: ['Verbal Warning', 'Citation Issued', 'Written Warning', 'On-View Arrest', 'No Action Taken']\n",
      "Categories (5, object): ['Citation Issued', 'No Action Taken', 'On-View Arrest', 'Verbal Warning', 'Written Warning']\n",
      "columns: contraband_found_cat\n",
      "number of unique values: 3\n",
      "unique values: [NaN, True, False]\n",
      "Categories (2, bool): [False, True]\n",
      "columns: contraband_drugs_cat\n",
      "number of unique values: 3\n",
      "unique values: [NaN, True, False]\n",
      "Categories (2, bool): [False, True]\n",
      "columns: contraband_weapons_cat\n",
      "number of unique values: 3\n",
      "unique values: [NaN, False, True]\n",
      "Categories (2, bool): [False, True]\n",
      "columns: reason_for_frisk_cat\n",
      "number of unique values: 76\n",
      "unique values: [NaN, 'Other Official Information', 'Erratic/Suspicious Behavior', 'Informant Tip', 'Erratic/Suspicious Behavior|Observation of Su..., ..., 'Other Official Information|Suspicious Movemen..., 'Erratic/Suspicious Behavior|Other Official In..., 'Erratic/Suspicious Behavior|Informant Tip|Sus..., 'Other Official Information|Informant Tip', 'Erratic/Suspicious Behavior|Other Official In...]\n",
      "Length: 76\n",
      "Categories (75, object): ['Erratic/Suspicious Behavior', 'Erratic/Suspicious Behavior|Informant Tip', 'Erratic/Suspicious Behavior|Informant Tip|Oth..., 'Erratic/Suspicious Behavior|Informant Tip|Oth..., ..., 'Suspicious Movement|Other Official Information', 'Suspicious Movement|Witness Observation', 'Witness Observation', 'Witness Observation|Other Official Information']\n",
      "columns: reason_for_search_cat\n",
      "number of unique values: 148\n",
      "unique values: [NaN, 'Observation of Suspected Contraband', 'Erratic/Suspicious Behavior', 'Erratic/Suspicious Behavior|Other Official In..., 'Other Official Information', ..., 'Erratic/Suspicious Behavior|Informant Tip|Obs..., 'Erratic/Suspicious Behavior|Informant Tip|Oth..., 'Erratic/Suspicious Behavior|Other Official In..., 'Erratic/Suspicious Behavior|Other Official In..., 'Informant Tip|Observation of Suspected Contra...]\n",
      "Length: 148\n",
      "Categories (147, object): ['Erratic/Suspicious Behavior', 'Erratic/Suspicious Behavior|Erratic/Suspiciou..., 'Erratic/Suspicious Behavior|Erratic/Suspiciou..., 'Erratic/Suspicious Behavior|Erratic/Suspiciou..., ..., 'Witness Observation|Observation of Suspected ..., 'Witness Observation|Observation of Suspected ..., 'Witness Observation|Other Official Information', 'Witness Observation|Suspicious Movement']\n",
      "columns: reason_for_stop_cat\n",
      "number of unique values: 10\n",
      "unique values: ['Speed Limit Violation', 'Safe Movement Violation', 'Stop Light/Sign Violation', 'Vehicle Equipment Violation', 'Other Motor Vehicle Violation', 'Investigation', 'Driving While Impaired', 'Seat Belt Violation', 'Vehicle Regulatory Violation', 'Checkpoint']\n",
      "Categories (10, object): ['Checkpoint', 'Driving While Impaired', 'Investigation', 'Other Motor Vehicle Violation', ..., 'Speed Limit Violation', 'Stop Light/Sign Violation', 'Vehicle Equipment Violation', 'Vehicle Regulatory Violation']\n"
     ]
    }
   ],
   "source": [
    "print(data.columns)\n",
    "for column in data.columns:\n",
    "    unique_values = data[column].unique()\n",
    "    print(f\"columns: {column}\")\n",
    "    print(f\"number of unique values: {len(unique_values)}\")\n",
    "    print(f\"unique values: {unique_values}\")"
   ]
  },
  {
   "cell_type": "code",
   "execution_count": 4,
   "metadata": {},
   "outputs": [
    {
     "name": "stdout",
     "output_type": "stream",
     "text": [
      "raw_action_description_cat\n",
      "Citation Issued    15883010\n",
      "Verbal Warning      4225666\n",
      "Written Warning     3212108\n",
      "No Action Taken      744931\n",
      "On-View Arrest       541396\n",
      "Name: count, dtype: int64\n"
     ]
    }
   ],
   "source": [
    "outcome_counts = data['raw_action_description_cat'].value_counts()\n",
    "print(outcome_counts)\n",
    "\n",
    "#This variable is more nuanced, we can see the NaN values in outcome_cat variable are no action taken. \n",
    "#We will replace these with no action taken. More analysis below to confirm. "
   ]
  },
  {
   "cell_type": "code",
   "execution_count": 5,
   "metadata": {},
   "outputs": [
    {
     "name": "stdout",
     "output_type": "stream",
     "text": [
      "All instances match: 'No Action Taken' where 'outcome_cat' is NaN\n"
     ]
    }
   ],
   "source": [
    "# This code first finds rows where 'outcome_cat' is NaN, and check if 'raw_action_description_cat' is 'No Action Taken' for all these rows\n",
    "\n",
    "# Find rows where 'outcome_cat' is NaN\n",
    "nan_rows = data[data['outcome_cat'].isna()]\n",
    "\n",
    "# Check if 'raw_action_description_cat' is 'No Action Taken' for all these rows\n",
    "mismatch_indices = nan_rows[nan_rows['raw_action_description_cat'] != 'No Action Taken'].index\n",
    "\n",
    "if len(mismatch_indices) > 0:\n",
    "    print(f\"Mismatch found at indices: {mismatch_indices.tolist()}\")\n",
    "else:\n",
    "    print(\"All instances match: 'No Action Taken' where 'outcome_cat' is NaN\")"
   ]
  },
  {
   "cell_type": "code",
   "execution_count": 6,
   "metadata": {},
   "outputs": [
    {
     "name": "stdout",
     "output_type": "stream",
     "text": [
      "['black', 'white', 'hispanic', 'unknown', 'asian/pacific islander', 'other', NaN]\n",
      "Categories (6, object): ['asian/pacific islander', 'black', 'hispanic', 'other', 'unknown', 'white']\n"
     ]
    }
   ],
   "source": [
    "print(data['subject_race_cat'].unique())\n",
    "\n",
    "values_to_remove = ['unknown', 'other']\n",
    "df_clean = data[~data['subject_race_cat'].isin(values_to_remove) & data['subject_race_cat'].notna()]"
   ]
  },
  {
   "cell_type": "code",
   "execution_count": 7,
   "metadata": {},
   "outputs": [
    {
     "name": "stdout",
     "output_type": "stream",
     "text": [
      "0\n",
      "0\n",
      "733821\n"
     ]
    }
   ],
   "source": [
    "df_clean\n",
    "data = df_clean\n",
    "data\n",
    "print(data['subject_race_cat'].isna().sum())\n",
    "\n",
    "#no missing values in race column.\n",
    "\n",
    "print(data['subject_sex_cat'].isna().sum())\n",
    "\n",
    "#no missing values in sex column either. \n",
    "\n",
    "print(data['outcome_cat'].isna().sum())\n",
    "\n",
    "#Around 10000 missing values in outcome, these are No action taken."
   ]
  },
  {
   "cell_type": "code",
   "execution_count": 8,
   "metadata": {},
   "outputs": [
    {
     "name": "stdout",
     "output_type": "stream",
     "text": [
      "subject_race_cat\n",
      "white                     13562220\n",
      "black                      8323550\n",
      "hispanic                   1967984\n",
      "asian/pacific islander      292691\n",
      "other                            0\n",
      "unknown                          0\n",
      "Name: count, dtype: int64\n"
     ]
    }
   ],
   "source": [
    "print(data['subject_race_cat'].value_counts())"
   ]
  },
  {
   "cell_type": "code",
   "execution_count": 9,
   "metadata": {},
   "outputs": [],
   "source": [
    "import joblib\n",
    "from sklearn.linear_model import LogisticRegression\n",
    "from sklearn.preprocessing import StandardScaler, OneHotEncoder\n",
    "from sklearn.impute import SimpleImputer\n",
    "from sklearn.pipeline import Pipeline\n",
    "from sklearn.compose import ColumnTransformer\n",
    "\n",
    "# I defined all possible categories upfront for consistency\n",
    "all_race_categories = ['black', 'white', 'hispanic', 'asian/pacific islander']\n",
    "all_sex_categories = ['female', 'male', 'unknown']\n",
    "all_outcome_categories = ['warning', 'citation', 'arrest', 'no_action']\n",
    "\n",
    "# I converted categorical columns to pd.Categorical with predefined categories\n",
    "data['subject_race_cat'] = pd.Categorical(data['subject_race_cat'], categories=all_race_categories)\n",
    "data['subject_sex_cat'] = pd.Categorical(data['subject_sex_cat'], categories=all_sex_categories)\n",
    "data['outcome_cat'] = pd.Categorical(data['outcome_cat'], categories=all_outcome_categories)\n",
    "\n",
    "import statsmodels.api as sm\n",
    "\n",
    "# I also removed rows with NaN values in 'subject_age'**\n",
    "data = data.dropna(subset=['subject_age'])\n",
    "\n",
    "# Define numeric and categorical features\n",
    "numeric_features = ['subject_age']\n",
    "categorical_features = ['subject_race_cat', 'subject_sex_cat']\n",
    "\n",
    "# Standardize numeric features\n",
    "scaler = StandardScaler()\n",
    "X_numeric_scaled = scaler.fit_transform(data[numeric_features])\n",
    "\n",
    "# Convert the scaled numeric data to a DataFrame\n",
    "X_numeric_df = pd.DataFrame(X_numeric_scaled, columns=numeric_features)\n",
    "\n",
    "# One-hot encode categorical features\n",
    "onehot = OneHotEncoder(drop='first', sparse_output=True)\n",
    "X_categorical_encoded = onehot.fit_transform(data[categorical_features])\n",
    "\n",
    "# Convert the one-hot encoded data to a DataFrame\n",
    "categorical_col_names = onehot.get_feature_names_out(categorical_features)\n",
    "# Convert to a sparse DataFrame directly\n",
    "X_categorical_df = pd.DataFrame.sparse.from_spmatrix(X_categorical_encoded, columns=onehot.get_feature_names_out(categorical_features))\n",
    "\n",
    "# Combine numeric and categorical features into one DataFrame using pandas.concat()\n",
    "X_combined = pd.concat([X_numeric_df.reset_index(drop=True), X_categorical_df.reset_index(drop=True)], axis=1)"
   ]
  },
  {
   "cell_type": "markdown",
   "metadata": {},
   "source": [
    "The asian race category has been set as reference category above. \n",
    "Also female has been set as reference category in sex. "
   ]
  },
  {
   "cell_type": "code",
   "execution_count": 10,
   "metadata": {},
   "outputs": [
    {
     "name": "stdout",
     "output_type": "stream",
     "text": [
      "outcome_cat\n",
      "citation           15550500\n",
      "warning             7325241\n",
      "No action taken      733722\n",
      "arrest               534610\n",
      "no_action                 0\n",
      "Name: count, dtype: int64\n"
     ]
    },
    {
     "name": "stderr",
     "output_type": "stream",
     "text": [
      "/var/folders/h7/b_8s1jy17xgb5_q44yf41v3h0000gn/T/ipykernel_10828/66418482.py:4: SettingWithCopyWarning: \n",
      "A value is trying to be set on a copy of a slice from a DataFrame.\n",
      "Try using .loc[row_indexer,col_indexer] = value instead\n",
      "\n",
      "See the caveats in the documentation: https://pandas.pydata.org/pandas-docs/stable/user_guide/indexing.html#returning-a-view-versus-a-copy\n",
      "  data['outcome_cat'] = data['outcome_cat'].astype('category')\n",
      "/var/folders/h7/b_8s1jy17xgb5_q44yf41v3h0000gn/T/ipykernel_10828/66418482.py:7: SettingWithCopyWarning: \n",
      "A value is trying to be set on a copy of a slice from a DataFrame.\n",
      "Try using .loc[row_indexer,col_indexer] = value instead\n",
      "\n",
      "See the caveats in the documentation: https://pandas.pydata.org/pandas-docs/stable/user_guide/indexing.html#returning-a-view-versus-a-copy\n",
      "  data['outcome_cat'] = data['outcome_cat'].cat.add_categories('No action taken')\n",
      "/var/folders/h7/b_8s1jy17xgb5_q44yf41v3h0000gn/T/ipykernel_10828/66418482.py:10: SettingWithCopyWarning: \n",
      "A value is trying to be set on a copy of a slice from a DataFrame.\n",
      "Try using .loc[row_indexer,col_indexer] = value instead\n",
      "\n",
      "See the caveats in the documentation: https://pandas.pydata.org/pandas-docs/stable/user_guide/indexing.html#returning-a-view-versus-a-copy\n",
      "  data['outcome_cat'] = data['outcome_cat'].fillna('No action taken')\n"
     ]
    }
   ],
   "source": [
    "import statsmodels.api as sm\n",
    "\n",
    "# Create the dependent variable (outcome) as a categorical variable\n",
    "data['outcome_cat'] = data['outcome_cat'].astype('category')\n",
    "\n",
    "# Add 'No action taken' to the existing categories of 'outcome_cat'\n",
    "data['outcome_cat'] = data['outcome_cat'].cat.add_categories('No action taken')\n",
    "\n",
    "# Replace NaN values in 'outcome_cat' with 'No action taken'\n",
    "data['outcome_cat'] = data['outcome_cat'].fillna('No action taken')\n",
    "\n",
    "# Verify the changes\n",
    "print(data['outcome_cat'].value_counts())"
   ]
  },
  {
   "cell_type": "code",
   "execution_count": 11,
   "metadata": {},
   "outputs": [
    {
     "name": "stdout",
     "output_type": "stream",
     "text": [
      "outcome_cat\n",
      "citation           15550500\n",
      "warning             7325241\n",
      "No action taken      733722\n",
      "arrest               534610\n",
      "Name: count, dtype: int64\n"
     ]
    },
    {
     "name": "stderr",
     "output_type": "stream",
     "text": [
      "/var/folders/h7/b_8s1jy17xgb5_q44yf41v3h0000gn/T/ipykernel_10828/4197693797.py:2: SettingWithCopyWarning: \n",
      "A value is trying to be set on a copy of a slice from a DataFrame.\n",
      "Try using .loc[row_indexer,col_indexer] = value instead\n",
      "\n",
      "See the caveats in the documentation: https://pandas.pydata.org/pandas-docs/stable/user_guide/indexing.html#returning-a-view-versus-a-copy\n",
      "  data['outcome_cat'] = data['outcome_cat'].cat.remove_categories('no_action')\n"
     ]
    }
   ],
   "source": [
    "# Remove the 'no_action' category from the 'outcome_cat' column\n",
    "data['outcome_cat'] = data['outcome_cat'].cat.remove_categories('no_action')\n",
    "\n",
    "# Verify the changes\n",
    "print(data['outcome_cat'].value_counts())"
   ]
  },
  {
   "cell_type": "code",
   "execution_count": 12,
   "metadata": {},
   "outputs": [
    {
     "name": "stdout",
     "output_type": "stream",
     "text": [
      "count    2.414407e+07\n",
      "mean     3.492775e+01\n",
      "std      1.344198e+01\n",
      "min      1.000000e+01\n",
      "25%      2.400000e+01\n",
      "50%      3.200000e+01\n",
      "75%      4.400000e+01\n",
      "max      1.100000e+02\n",
      "Name: subject_age, dtype: float64\n",
      "outcome_cat\n",
      "citation           15550500\n",
      "warning             7325241\n",
      "No action taken      733722\n",
      "arrest               534610\n",
      "Name: count, dtype: int64\n"
     ]
    }
   ],
   "source": [
    "print(data['subject_age'].describe())  # Check the distribution of subject_age\n",
    "\n",
    "print(data['outcome_cat'].value_counts())  # Check the distribution of outcome categories"
   ]
  },
  {
   "cell_type": "code",
   "execution_count": 13,
   "metadata": {},
   "outputs": [
    {
     "name": "stderr",
     "output_type": "stream",
     "text": [
      "/var/folders/h7/b_8s1jy17xgb5_q44yf41v3h0000gn/T/ipykernel_10828/3939964556.py:2: SettingWithCopyWarning: \n",
      "A value is trying to be set on a copy of a slice from a DataFrame.\n",
      "Try using .loc[row_indexer,col_indexer] = value instead\n",
      "\n",
      "See the caveats in the documentation: https://pandas.pydata.org/pandas-docs/stable/user_guide/indexing.html#returning-a-view-versus-a-copy\n",
      "  data['outcome_cat'] = data['outcome_cat'].cat.set_categories(['No action taken', 'citation', 'warning', 'arrest'])\n"
     ]
    },
    {
     "data": {
      "text/html": [
       "<div>\n",
       "<style scoped>\n",
       "    .dataframe tbody tr th:only-of-type {\n",
       "        vertical-align: middle;\n",
       "    }\n",
       "\n",
       "    .dataframe tbody tr th {\n",
       "        vertical-align: top;\n",
       "    }\n",
       "\n",
       "    .dataframe thead th {\n",
       "        text-align: right;\n",
       "    }\n",
       "</style>\n",
       "<table border=\"1\" class=\"dataframe\">\n",
       "  <thead>\n",
       "    <tr style=\"text-align: right;\">\n",
       "      <th></th>\n",
       "      <th>No action taken</th>\n",
       "      <th>citation</th>\n",
       "      <th>warning</th>\n",
       "      <th>arrest</th>\n",
       "    </tr>\n",
       "  </thead>\n",
       "  <tbody>\n",
       "    <tr>\n",
       "      <th>0</th>\n",
       "      <td>False</td>\n",
       "      <td>False</td>\n",
       "      <td>True</td>\n",
       "      <td>False</td>\n",
       "    </tr>\n",
       "    <tr>\n",
       "      <th>1</th>\n",
       "      <td>False</td>\n",
       "      <td>True</td>\n",
       "      <td>False</td>\n",
       "      <td>False</td>\n",
       "    </tr>\n",
       "    <tr>\n",
       "      <th>2</th>\n",
       "      <td>False</td>\n",
       "      <td>False</td>\n",
       "      <td>True</td>\n",
       "      <td>False</td>\n",
       "    </tr>\n",
       "    <tr>\n",
       "      <th>3</th>\n",
       "      <td>False</td>\n",
       "      <td>True</td>\n",
       "      <td>False</td>\n",
       "      <td>False</td>\n",
       "    </tr>\n",
       "    <tr>\n",
       "      <th>4</th>\n",
       "      <td>False</td>\n",
       "      <td>False</td>\n",
       "      <td>True</td>\n",
       "      <td>False</td>\n",
       "    </tr>\n",
       "    <tr>\n",
       "      <th>...</th>\n",
       "      <td>...</td>\n",
       "      <td>...</td>\n",
       "      <td>...</td>\n",
       "      <td>...</td>\n",
       "    </tr>\n",
       "    <tr>\n",
       "      <th>24607106</th>\n",
       "      <td>False</td>\n",
       "      <td>True</td>\n",
       "      <td>False</td>\n",
       "      <td>False</td>\n",
       "    </tr>\n",
       "    <tr>\n",
       "      <th>24607107</th>\n",
       "      <td>False</td>\n",
       "      <td>False</td>\n",
       "      <td>False</td>\n",
       "      <td>True</td>\n",
       "    </tr>\n",
       "    <tr>\n",
       "      <th>24607108</th>\n",
       "      <td>False</td>\n",
       "      <td>True</td>\n",
       "      <td>False</td>\n",
       "      <td>False</td>\n",
       "    </tr>\n",
       "    <tr>\n",
       "      <th>24607109</th>\n",
       "      <td>False</td>\n",
       "      <td>False</td>\n",
       "      <td>True</td>\n",
       "      <td>False</td>\n",
       "    </tr>\n",
       "    <tr>\n",
       "      <th>24607110</th>\n",
       "      <td>False</td>\n",
       "      <td>False</td>\n",
       "      <td>True</td>\n",
       "      <td>False</td>\n",
       "    </tr>\n",
       "  </tbody>\n",
       "</table>\n",
       "<p>24144073 rows × 4 columns</p>\n",
       "</div>"
      ],
      "text/plain": [
       "          No action taken  citation  warning  arrest\n",
       "0                   False     False     True   False\n",
       "1                   False      True    False   False\n",
       "2                   False     False     True   False\n",
       "3                   False      True    False   False\n",
       "4                   False     False     True   False\n",
       "...                   ...       ...      ...     ...\n",
       "24607106            False      True    False   False\n",
       "24607107            False     False    False    True\n",
       "24607108            False      True    False   False\n",
       "24607109            False     False     True   False\n",
       "24607110            False     False     True   False\n",
       "\n",
       "[24144073 rows x 4 columns]"
      ]
     },
     "execution_count": 13,
     "metadata": {},
     "output_type": "execute_result"
    }
   ],
   "source": [
    "# Set 'No action taken' as the reference category\n",
    "data['outcome_cat'] = data['outcome_cat'].cat.set_categories(['No action taken', 'citation', 'warning', 'arrest'])\n",
    "\n",
    "# One-hot encode the outcome_cat column, setting 'No action taken' as the reference category\n",
    "Y = pd.get_dummies(data['outcome_cat'], drop_first=False)\n",
    "\n",
    "Y"
   ]
  },
  {
   "cell_type": "code",
   "execution_count": 14,
   "metadata": {},
   "outputs": [
    {
     "name": "stdout",
     "output_type": "stream",
     "text": [
      "subject_age                  100\n",
      "subject_race_cat_black         2\n",
      "subject_race_cat_hispanic      2\n",
      "subject_race_cat_white         2\n",
      "subject_sex_cat_male           2\n",
      "dtype: int64\n"
     ]
    }
   ],
   "source": [
    "print(X_combined.nunique())"
   ]
  },
  {
   "cell_type": "code",
   "execution_count": 18,
   "metadata": {},
   "outputs": [
    {
     "name": "stdout",
     "output_type": "stream",
     "text": [
      "                           subject_age  subject_race_cat_black  \\\n",
      "subject_age                   1.000000               -0.025919   \n",
      "subject_race_cat_black       -0.025919                1.000000   \n",
      "subject_race_cat_hispanic    -0.090561               -0.216053   \n",
      "subject_race_cat_white        0.075633               -0.821007   \n",
      "subject_sex_cat_male          0.018464               -0.041943   \n",
      "\n",
      "                           subject_race_cat_hispanic  subject_race_cat_white  \\\n",
      "subject_age                                -0.090561                0.075633   \n",
      "subject_race_cat_black                     -0.216053               -0.821007   \n",
      "subject_race_cat_hispanic                   1.000000               -0.337193   \n",
      "subject_race_cat_white                     -0.337193                1.000000   \n",
      "subject_sex_cat_male                        0.085673               -0.007811   \n",
      "\n",
      "                           subject_sex_cat_male  \n",
      "subject_age                            0.018464  \n",
      "subject_race_cat_black                -0.041943  \n",
      "subject_race_cat_hispanic              0.085673  \n",
      "subject_race_cat_white                -0.007811  \n",
      "subject_sex_cat_male                   1.000000  \n"
     ]
    }
   ],
   "source": [
    "correlation_matrix = X_combined.corr()\n",
    "print(correlation_matrix)"
   ]
  },
  {
   "cell_type": "markdown",
   "metadata": {},
   "source": [
    "**Time to regress!!"
   ]
  },
  {
   "cell_type": "code",
   "execution_count": 19,
   "metadata": {},
   "outputs": [
    {
     "name": "stdout",
     "output_type": "stream",
     "text": [
      "True\n",
      "True\n"
     ]
    }
   ],
   "source": [
    "print(Y.index.equals(X_combined.index))  # Should print True, but it does not. so need to do aligning. \n",
    "\n",
    "Y = Y.reset_index(drop=True)\n",
    "X_combined = X_combined.reset_index(drop=True)\n",
    "\n",
    "print(Y.index.equals(X_combined.index))\n",
    "\n",
    "#Good to go now! "
   ]
  },
  {
   "cell_type": "code",
   "execution_count": 20,
   "metadata": {},
   "outputs": [
    {
     "name": "stdout",
     "output_type": "stream",
     "text": [
      "Optimization terminated successfully.\n",
      "         Current function value: 0.831265\n",
      "         Iterations 8\n",
      "                          MNLogit Regression Results                          \n",
      "==============================================================================\n",
      "Dep. Variable:                      y   No. Observations:             24144073\n",
      "Model:                        MNLogit   Df Residuals:                 24144052\n",
      "Method:                           MLE   Df Model:                           18\n",
      "Date:                Mon, 18 Nov 2024   Pseudo R-squ.:                0.005380\n",
      "Time:                        12:48:43   Log-Likelihood:            -2.0070e+07\n",
      "converged:                       True   LL-Null:                   -2.0179e+07\n",
      "Covariance Type:            nonrobust   LLR p-value:                     0.000\n",
      "=============================================================================================\n",
      "               y=citation       coef    std err          z      P>|z|      [0.025      0.975]\n",
      "---------------------------------------------------------------------------------------------\n",
      "subject_age                  -0.3197      0.001   -294.182      0.000      -0.322      -0.318\n",
      "subject_race_cat_black        3.1970      0.004    902.120      0.000       3.190       3.204\n",
      "subject_race_cat_hispanic     2.2852      0.005    419.172      0.000       2.275       2.296\n",
      "subject_race_cat_white        3.7188      0.004   1049.195      0.000       3.712       3.726\n",
      "subject_sex_cat_male          1.3945      0.006    237.480      0.000       1.383       1.406\n",
      "Male_black                   -1.8396      0.007   -254.190      0.000      -1.854      -1.825\n",
      "Male_white                   -2.1281      0.007   -299.945      0.000      -2.142      -2.114\n",
      "---------------------------------------------------------------------------------------------\n",
      "                y=warning       coef    std err          z      P>|z|      [0.025      0.975]\n",
      "---------------------------------------------------------------------------------------------\n",
      "subject_age                  -0.1898      0.001   -170.640      0.000      -0.192      -0.188\n",
      "subject_race_cat_black        2.5966      0.004    721.428      0.000       2.590       2.604\n",
      "subject_race_cat_hispanic     1.4110      0.006    245.963      0.000       1.400       1.422\n",
      "subject_race_cat_white        2.9787      0.004    829.820      0.000       2.972       2.986\n",
      "subject_sex_cat_male          1.1063      0.006    181.101      0.000       1.094       1.118\n",
      "Male_black                   -1.5482      0.007   -207.139      0.000      -1.563      -1.534\n",
      "Male_white                   -1.9549      0.007   -266.740      0.000      -1.969      -1.941\n",
      "---------------------------------------------------------------------------------------------\n",
      "                 y=arrest       coef    std err          z      P>|z|      [0.025      0.975]\n",
      "---------------------------------------------------------------------------------------------\n",
      "subject_age                  -0.5125      0.002   -280.234      0.000      -0.516      -0.509\n",
      "subject_race_cat_black       -0.7665      0.006   -125.217      0.000      -0.779      -0.755\n",
      "subject_race_cat_hispanic     0.0610      0.007      8.849      0.000       0.047       0.074\n",
      "subject_race_cat_white       -0.3581      0.005    -65.260      0.000      -0.369      -0.347\n",
      "subject_sex_cat_male          0.3619      0.007     50.604      0.000       0.348       0.376\n",
      "Male_black                    0.3326      0.010     33.435      0.000       0.313       0.352\n",
      "Male_white                   -0.5265      0.009    -55.455      0.000      -0.545      -0.508\n",
      "=============================================================================================\n"
     ]
    }
   ],
   "source": [
    "X_combined['Male_black'] = X_combined['subject_race_cat_black'] * X_combined['subject_sex_cat_male']\n",
    "X_combined['Male_white'] = X_combined['subject_race_cat_white'] * X_combined['subject_sex_cat_male']\n",
    "\n",
    "logit_model_i = sm.MNLogit(Y, X_combined)\n",
    "result_i = logit_model_i.fit()\n",
    "print(result_i.summary())"
   ]
  },
  {
   "cell_type": "code",
   "execution_count": 21,
   "metadata": {},
   "outputs": [
    {
     "name": "stdout",
     "output_type": "stream",
     "text": [
      "subject_age                   1.011591\n",
      "subject_race_cat_black        2.570864\n",
      "subject_race_cat_hispanic     3.235521\n",
      "subject_race_cat_white        2.742160\n",
      "subject_sex_cat_male         28.963818\n",
      "Male_black                   12.120963\n",
      "Male_white                   18.930985\n",
      "dtype: float64\n"
     ]
    }
   ],
   "source": [
    "#variation inflation factors seem fine now! None are above 10. \n",
    "\n",
    "from statsmodels.stats.outliers_influence import variance_inflation_factor\n",
    "\n",
    "vif = pd.Series([variance_inflation_factor(X_combined, i) for i in range(X_combined.shape[1])], \n",
    "                index=X_combined.columns)\n",
    "print(vif)"
   ]
  }
 ],
 "metadata": {
  "kernelspec": {
   "display_name": "Python 3 (ipykernel)",
   "language": "python",
   "name": "python3"
  },
  "language_info": {
   "codemirror_mode": {
    "name": "ipython",
    "version": 3
   },
   "file_extension": ".py",
   "mimetype": "text/x-python",
   "name": "python",
   "nbconvert_exporter": "python",
   "pygments_lexer": "ipython3",
   "version": "3.11.4"
  }
 },
 "nbformat": 4,
 "nbformat_minor": 2
}
